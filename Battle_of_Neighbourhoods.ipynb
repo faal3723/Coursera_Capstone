{
 "cells": [
  {
   "cell_type": "markdown",
   "metadata": {},
   "source": [
    "Introduction/Business Problem:\n",
    "\n",
    "A contractor wants to open a gym somewhere in Denver, Colorado. She is looking for areas where there is not a lot of gyms around and preferebly a place with low gym rating.\n",
    "The purpose of the gym is to be more accessable to people of that area and provide a good service to its customers.\n",
    "\n",
    "This notebook will look into different neighbourhoods in the Denver area and pick the most suitable location base don the customer's nead. This note book will come with visualization tools to help the customer understand their business competition and how to gain a competative advantage."
   ]
  },
  {
   "cell_type": "markdown",
   "metadata": {},
   "source": [
    "Data:\n",
    "\n",
    "The data that will be used to solve the business problem is the ratings and locations of each gym in the city of Denver. Each neighbourhood will be segmented and clustered to gain insight on the performance of the gyms in the Denver area. \n",
    "\n",
    "We will start by aquairing the data from Foursquare then change/wrangle the data to fit our analysis. The data will put into a pandas dataframe that includes some of the following as a minimum: neighbourhoods, latitude and longitude. all unessesary data will be dropped from the data set. "
   ]
  }
 ],
 "metadata": {
  "kernelspec": {
   "display_name": "Python",
   "language": "python",
   "name": "conda-env-python-py"
  },
  "language_info": {
   "codemirror_mode": {
    "name": "ipython",
    "version": 3
   },
   "file_extension": ".py",
   "mimetype": "text/x-python",
   "name": "python",
   "nbconvert_exporter": "python",
   "pygments_lexer": "ipython3",
   "version": "3.6.12"
  }
 },
 "nbformat": 4,
 "nbformat_minor": 4
}
